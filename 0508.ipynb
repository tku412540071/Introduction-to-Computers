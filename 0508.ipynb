{
  "nbformat": 4,
  "nbformat_minor": 0,
  "metadata": {
    "colab": {
      "provenance": [],
      "authorship_tag": "ABX9TyP9punyvf3YVXy8WknG/r3K",
      "include_colab_link": true
    },
    "kernelspec": {
      "name": "python3",
      "display_name": "Python 3"
    },
    "language_info": {
      "name": "python"
    }
  },
  "cells": [
    {
      "cell_type": "markdown",
      "metadata": {
        "id": "view-in-github",
        "colab_type": "text"
      },
      "source": [
        "<a href=\"https://colab.research.google.com/github/tku412540071/Introduction-to-Computers/blob/main/0508.ipynb\" target=\"_parent\"><img src=\"https://colab.research.google.com/assets/colab-badge.svg\" alt=\"Open In Colab\"/></a>"
      ]
    },
    {
      "cell_type": "code",
      "execution_count": 10,
      "metadata": {
        "colab": {
          "base_uri": "https://localhost:8080/"
        },
        "id": "rZ2Gvkf9izN0",
        "outputId": "2b5c6fdb-f373-41e3-a036-d0499ceecde4"
      },
      "outputs": [
        {
          "output_type": "stream",
          "name": "stdout",
          "text": [
            "33.9\n",
            "體溫異常，請重新量測!\n"
          ]
        }
      ],
      "source": [
        "t=float(input(\"請輸入體溫\"))\n",
        "if (t>=37.5):\n",
        "  print(\"體溫過高!\")\n",
        "elif (t>=37):\n",
        "    print(\"體溫略高!\")\n",
        "elif (t>=34):\n",
        "    print(\"體溫正常!\")\n",
        "else:\n",
        "    print(\"體溫異常，請重新量測!\")"
      ]
    },
    {
      "cell_type": "code",
      "source": [
        "score=int(input(\"請輸入成績\"))\n",
        "if (score>=90):\n",
        "  print(\"A\")\n",
        "elif (score>=80):\n",
        "    print(\"B\")\n",
        "elif (score>=70):\n",
        "    print(\"C\")\n",
        "elif (score>=60):\n",
        "    print(\"D\")\n",
        "else:\n",
        "    print(\"E\")"
      ],
      "metadata": {
        "colab": {
          "base_uri": "https://localhost:8080/"
        },
        "id": "jllbijr7k3N1",
        "outputId": "86e6d8bd-1536-4d45-d120-605e45f004b2"
      },
      "execution_count": 14,
      "outputs": [
        {
          "output_type": "stream",
          "name": "stdout",
          "text": [
            "請輸入成績100\n",
            "A\n"
          ]
        }
      ]
    },
    {
      "cell_type": "code",
      "source": [
        "m=int(input(\"請輸入月份\"))\n",
        "if (m==3 or m==4 or m==5):\n",
        "  print(\"{}月是春天!\".format(m))\n",
        "elif (m==6 or m==7 or m==8):\n",
        "    print(\"{}月是夏天!\".format(m))\n",
        "elif (m==9 or m==10 or m==11):\n",
        "    print(\"{}月是秋天!\".format(m))\n",
        "elif (m==12 or m==1 or m==2):\n",
        "    print(\"{}月是冬天!\".format(m))\n",
        "else:\n",
        "    print(\"月份不在範圍內!\")"
      ],
      "metadata": {
        "colab": {
          "base_uri": "https://localhost:8080/"
        },
        "id": "Z1VX6vbTk71l",
        "outputId": "414b4883-e4a8-4917-b680-556825310e41"
      },
      "execution_count": 22,
      "outputs": [
        {
          "output_type": "stream",
          "name": "stdout",
          "text": [
            "請輸入月份7\n",
            "7月是夏天!\n"
          ]
        }
      ]
    }
  ]
}